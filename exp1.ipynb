{
 "cells": [
  {
   "cell_type": "markdown",
   "metadata": {},
   "source": [
    "# Experiment 1"
   ]
  },
  {
   "cell_type": "markdown",
   "metadata": {},
   "source": [
    "### Question 1 "
   ]
  },
  {
   "cell_type": "code",
   "execution_count": 16,
   "metadata": {},
   "outputs": [
    {
     "name": "stdout",
     "output_type": "stream",
     "text": [
      "Harsh Jain\n"
     ]
    }
   ],
   "source": [
    "first_name = input(\"Enter First name\")\n",
    "print(first_name)\n",
    "last_name = input(\"Enter Last name\")\n",
    "print(last_name)\n",
    "name = first_name + \" \" + last_name\n",
    "print(\"Full name\",name)"
   ]
  },
  {
   "cell_type": "markdown",
   "metadata": {},
   "source": [
    "### Question 2"
   ]
  },
  {
   "cell_type": "code",
   "execution_count": 18,
   "metadata": {},
   "outputs": [
    {
     "data": {
      "text/plain": [
       "88.25662499999999"
      ]
     },
     "execution_count": 18,
     "metadata": {},
     "output_type": "execute_result"
    }
   ],
   "source": [
    "def eval(x):\n",
    "    return 3*x**3 + 5*x**2 + 6\n",
    "eval(2.55)"
   ]
  },
  {
   "cell_type": "markdown",
   "metadata": {},
   "source": [
    "### Question 3"
   ]
  },
  {
   "cell_type": "code",
   "execution_count": 25,
   "metadata": {},
   "outputs": [
    {
     "name": "stdout",
     "output_type": "stream",
     "text": [
      "456\n"
     ]
    }
   ],
   "source": [
    "s = input(\"Enter String len >=3\")\n",
    "m = len(s)//2-1\n",
    "n = m+3\n",
    "if len(s)>=3:\n",
    "    print(s[m:n])\n",
    "else:\n",
    "    print(\"Invalid Input\")"
   ]
  },
  {
   "cell_type": "markdown",
   "metadata": {},
   "source": [
    "###  Question 4"
   ]
  },
  {
   "cell_type": "code",
   "execution_count": 6,
   "metadata": {},
   "outputs": [
    {
     "name": "stdout",
     "output_type": "stream",
     "text": [
      "hELLO world\n"
     ]
    }
   ],
   "source": [
    "s = input(\"Enter String \")\n",
    "modifed_s = \"\"\n",
    "for i in s:\n",
    "    i = i.upper() if i.islower() else i.lower()\n",
    "    modifed_s+=i\n",
    "print(modifed_s)"
   ]
  },
  {
   "cell_type": "markdown",
   "metadata": {},
   "source": [
    "### Question 5"
   ]
  },
  {
   "cell_type": "code",
   "execution_count": null,
   "metadata": {},
   "outputs": [
    {
     "name": "stdout",
     "output_type": "stream",
     "text": [
      "Digits :  3\n",
      "Letters :  9\n",
      "Special Symbols :  6\n"
     ]
    }
   ],
   "source": [
    "digits = 0\n",
    "letters = 0\n",
    "special_symbols = 0\n",
    "s = input(\"Enter String : \")\n",
    "for i in s:\n",
    "    if i.isalpha():\n",
    "        letters+=1\n",
    "    elif i.isdigit():\n",
    "        digits+=1\n",
    "    else:\n",
    "        special_symbols+=1\n",
    "\n",
    "print(\"Digits : \",digits)\n",
    "print(\"Letters : \",letters)\n",
    "print(\"Special Symbols : \",special_symbols)"
   ]
  },
  {
   "cell_type": "markdown",
   "metadata": {},
   "source": [
    "### Question 6\n"
   ]
  },
  {
   "cell_type": "code",
   "execution_count": null,
   "metadata": {},
   "outputs": [],
   "source": [
    "s = input(\"Enter String\")\n",
    "c = input(\"Enter character to find occurence\")\n",
    "count = 0\n",
    "for i in s:\n",
    "    if i == c: count+=1\n",
    "print(f\"Count of {c} = \",count)"
   ]
  },
  {
   "cell_type": "markdown",
   "metadata": {},
   "source": [
    "### Question 7"
   ]
  },
  {
   "cell_type": "code",
   "execution_count": 16,
   "metadata": {},
   "outputs": [
    {
     "name": "stdout",
     "output_type": "stream",
     "text": [
      "Index of harsh =  0\n"
     ]
    }
   ],
   "source": [
    "s = input(\"Enter String\")\n",
    "c = input(\"Enter string to start occurence\")\n",
    "index = 0\n",
    "for i in range(len(s)-len(c)+1):\n",
    "    if s[i:i+len(c)] == c: index = i\n",
    "print(f\"Last index of {c} = \",index)"
   ]
  },
  {
   "cell_type": "markdown",
   "metadata": {},
   "source": [
    "### Question 8"
   ]
  },
  {
   "cell_type": "code",
   "execution_count": 10,
   "metadata": {},
   "outputs": [
    {
     "name": "stdout",
     "output_type": "stream",
     "text": [
      "4521\n"
     ]
    }
   ],
   "source": [
    "s = input(\"Enter String\")\n",
    "modifed_s = \"\"\n",
    "for i in s:\n",
    "    modifed_s += i if i.isdigit() else \"\"\n",
    "print(modifed_s)"
   ]
  },
  {
   "cell_type": "markdown",
   "metadata": {},
   "source": [
    "### Question 9"
   ]
  },
  {
   "cell_type": "code",
   "execution_count": 15,
   "metadata": {},
   "outputs": [
    {
     "name": "stdout",
     "output_type": "stream",
     "text": [
      "sxdfcgvhb######fgvtbjhn5678\n"
     ]
    }
   ],
   "source": [
    "s = input(\"Enter String\")\n",
    "modifed_s = \"\"\n",
    "for i in s:\n",
    "    modifed_s += i if i.isdigit() or i.isalpha() else \"#\"\n",
    "print(modifed_s)"
   ]
  }
 ],
 "metadata": {
  "kernelspec": {
   "display_name": ".venv",
   "language": "python",
   "name": "python3"
  },
  "language_info": {
   "codemirror_mode": {
    "name": "ipython",
    "version": 3
   },
   "file_extension": ".py",
   "mimetype": "text/x-python",
   "name": "python",
   "nbconvert_exporter": "python",
   "pygments_lexer": "ipython3",
   "version": "3.8.8"
  }
 },
 "nbformat": 4,
 "nbformat_minor": 2
}
